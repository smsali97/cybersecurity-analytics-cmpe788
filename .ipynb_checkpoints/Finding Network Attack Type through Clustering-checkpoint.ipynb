{
 "cells": [
  {
   "cell_type": "markdown",
   "id": "c3d176cd",
   "metadata": {
    "colab_type": "text",
    "id": "view-in-github"
   },
   "source": [
    "<a href=\"https://colab.research.google.com/github/smsali97/cybersecurity-analytics-cmpe788/blob/main/Finding%20Network%20Attack%20Type%20through%20Clustering.ipynb\" target=\"_parent\"><img src=\"https://colab.research.google.com/assets/colab-badge.svg\" alt=\"Open In Colab\"/></a>"
   ]
  },
  {
   "cell_type": "markdown",
   "id": "660f10c7",
   "metadata": {
    "id": "660f10c7"
   },
   "source": [
    "# Finding the Attack Type using Clustering ( K Means Clustering)"
   ]
  },
  {
   "cell_type": "code",
   "execution_count": 17,
   "id": "b55daded",
   "metadata": {
    "id": "b55daded"
   },
   "outputs": [],
   "source": [
    "import pandas as pd\n",
    "from sklearn.model_selection import train_test_split\n",
    "import matplotlib.pyplot as plt\n",
    "import seaborn as sns\n",
    "from sklearn.cluster import KMeans\n",
    "from sklearn.preprocessing import LabelEncoder\n",
    "import numpy as np\n",
    "from sklearn.neighbors import KNeighborsRegressor\n",
    "from sklearn.manifold import MDS\n",
    "from sklearn.preprocessing import MinMaxScaler\n",
    "from sklearn.decomposition import PCA\n",
    "from sklearn.svm import SVC\n",
    "import sklearn.metrics as metrics\n",
    "from sklearn.feature_selection import RFE"
   ]
  },
  {
   "cell_type": "code",
   "execution_count": 2,
   "id": "d2e6dc15",
   "metadata": {
    "id": "d2e6dc15"
   },
   "outputs": [],
   "source": [
    "hulk_df = pd.read_csv('Hulk-NoDefense.csv')\n",
    "slowhttp_df = pd.read_csv('Slowhttptest-NoDefense.csv')\n",
    "slowloris_df = pd.read_csv('Slowloris-NoDefense.csv')\n",
    "tcpflood_df = pd.read_csv('TCPFlood-NoDefense(2).csv')"
   ]
  },
  {
   "cell_type": "code",
   "execution_count": 3,
   "id": "2dff2839",
   "metadata": {
    "id": "2dff2839",
    "outputId": "8e0d6ba7-3248-47d7-cfaa-ee9dd479b630"
   },
   "outputs": [
    {
     "data": {
      "text/plain": [
       "True"
      ]
     },
     "execution_count": 3,
     "metadata": {},
     "output_type": "execute_result"
    }
   ],
   "source": [
    "# checking if columns are the same\n",
    "hulk_columns = set(hulk_df)\n",
    "slowhttp_columns = set(slowhttp_df)\n",
    "slowloris_columns = set(slowloris_df)\n",
    "tcpflood_columns = set(tcpflood_df)\n",
    "\n",
    "hulk_columns == slowhttp_columns == slowloris_columns == tcpflood_columns"
   ]
  },
  {
   "cell_type": "code",
   "execution_count": 4,
   "id": "25de33c4",
   "metadata": {
    "id": "25de33c4"
   },
   "outputs": [],
   "source": [
    "# adding target column\n",
    "hulk_df['attack_type'] = 'hulk'\n",
    "slowhttp_df['attack_type'] = 'slow_http'\n",
    "slowloris_df['attack_type'] = 'slow_loris'\n",
    "tcpflood_df['attack_type'] = 'tcp_flood'"
   ]
  },
  {
   "cell_type": "code",
   "execution_count": 5,
   "id": "1f2afd08",
   "metadata": {
    "id": "1f2afd08",
    "outputId": "5269d4db-7605-4c71-be3f-d0650199f6e0"
   },
   "outputs": [
    {
     "data": {
      "text/html": [
       "<div>\n",
       "<style scoped>\n",
       "    .dataframe tbody tr th:only-of-type {\n",
       "        vertical-align: middle;\n",
       "    }\n",
       "\n",
       "    .dataframe tbody tr th {\n",
       "        vertical-align: top;\n",
       "    }\n",
       "\n",
       "    .dataframe thead th {\n",
       "        text-align: right;\n",
       "    }\n",
       "</style>\n",
       "<table border=\"1\" class=\"dataframe\">\n",
       "  <thead>\n",
       "    <tr style=\"text-align: right;\">\n",
       "      <th></th>\n",
       "      <th>Flow ID</th>\n",
       "      <th>Src IP</th>\n",
       "      <th>Src Port</th>\n",
       "      <th>Dst IP</th>\n",
       "      <th>Dst Port</th>\n",
       "      <th>Protocol</th>\n",
       "      <th>Timestamp</th>\n",
       "      <th>Flow Duration</th>\n",
       "      <th>Total Fwd Packet</th>\n",
       "      <th>Total Bwd packets</th>\n",
       "      <th>...</th>\n",
       "      <th>Active Mean</th>\n",
       "      <th>Active Std</th>\n",
       "      <th>Active Max</th>\n",
       "      <th>Active Min</th>\n",
       "      <th>Idle Mean</th>\n",
       "      <th>Idle Std</th>\n",
       "      <th>Idle Max</th>\n",
       "      <th>Idle Min</th>\n",
       "      <th>Label</th>\n",
       "      <th>attack_type</th>\n",
       "    </tr>\n",
       "  </thead>\n",
       "  <tbody>\n",
       "    <tr>\n",
       "      <th>396790</th>\n",
       "      <td>192.168.111.65-192.168.111.66-46446-80-6</td>\n",
       "      <td>192.168.111.65</td>\n",
       "      <td>46446</td>\n",
       "      <td>192.168.111.66</td>\n",
       "      <td>80</td>\n",
       "      <td>6</td>\n",
       "      <td>11/02/2021 09:08:21 AM</td>\n",
       "      <td>72891</td>\n",
       "      <td>8</td>\n",
       "      <td>6</td>\n",
       "      <td>...</td>\n",
       "      <td>0.0</td>\n",
       "      <td>0.0</td>\n",
       "      <td>0.0</td>\n",
       "      <td>0.0</td>\n",
       "      <td>0.0</td>\n",
       "      <td>0.0</td>\n",
       "      <td>0.0</td>\n",
       "      <td>0.0</td>\n",
       "      <td>Hulk-NoDefense</td>\n",
       "      <td>hulk</td>\n",
       "    </tr>\n",
       "    <tr>\n",
       "      <th>576383</th>\n",
       "      <td>192.168.111.65-192.168.111.66-45022-80-6</td>\n",
       "      <td>192.168.111.65</td>\n",
       "      <td>45022</td>\n",
       "      <td>192.168.111.66</td>\n",
       "      <td>80</td>\n",
       "      <td>6</td>\n",
       "      <td>11/02/2021 09:10:28 AM</td>\n",
       "      <td>226496</td>\n",
       "      <td>7</td>\n",
       "      <td>5</td>\n",
       "      <td>...</td>\n",
       "      <td>0.0</td>\n",
       "      <td>0.0</td>\n",
       "      <td>0.0</td>\n",
       "      <td>0.0</td>\n",
       "      <td>0.0</td>\n",
       "      <td>0.0</td>\n",
       "      <td>0.0</td>\n",
       "      <td>0.0</td>\n",
       "      <td>Hulk-NoDefense</td>\n",
       "      <td>hulk</td>\n",
       "    </tr>\n",
       "    <tr>\n",
       "      <th>713697</th>\n",
       "      <td>192.168.111.65-192.168.111.66-41880-80-6</td>\n",
       "      <td>192.168.111.65</td>\n",
       "      <td>41880</td>\n",
       "      <td>192.168.111.66</td>\n",
       "      <td>80</td>\n",
       "      <td>6</td>\n",
       "      <td>11/02/2021 09:12:07 AM</td>\n",
       "      <td>641317</td>\n",
       "      <td>8</td>\n",
       "      <td>6</td>\n",
       "      <td>...</td>\n",
       "      <td>0.0</td>\n",
       "      <td>0.0</td>\n",
       "      <td>0.0</td>\n",
       "      <td>0.0</td>\n",
       "      <td>0.0</td>\n",
       "      <td>0.0</td>\n",
       "      <td>0.0</td>\n",
       "      <td>0.0</td>\n",
       "      <td>Hulk-NoDefense</td>\n",
       "      <td>hulk</td>\n",
       "    </tr>\n",
       "    <tr>\n",
       "      <th>6353</th>\n",
       "      <td>192.168.111.65-192.168.111.66-47406-80-6</td>\n",
       "      <td>192.168.111.65</td>\n",
       "      <td>47406</td>\n",
       "      <td>192.168.111.66</td>\n",
       "      <td>80</td>\n",
       "      <td>6</td>\n",
       "      <td>11/02/2021 09:03:57 AM</td>\n",
       "      <td>18216</td>\n",
       "      <td>7</td>\n",
       "      <td>5</td>\n",
       "      <td>...</td>\n",
       "      <td>0.0</td>\n",
       "      <td>0.0</td>\n",
       "      <td>0.0</td>\n",
       "      <td>0.0</td>\n",
       "      <td>0.0</td>\n",
       "      <td>0.0</td>\n",
       "      <td>0.0</td>\n",
       "      <td>0.0</td>\n",
       "      <td>Hulk-NoDefense</td>\n",
       "      <td>hulk</td>\n",
       "    </tr>\n",
       "    <tr>\n",
       "      <th>321712</th>\n",
       "      <td>192.168.111.65-192.168.111.66-36858-80-6</td>\n",
       "      <td>192.168.111.65</td>\n",
       "      <td>36858</td>\n",
       "      <td>192.168.111.66</td>\n",
       "      <td>80</td>\n",
       "      <td>6</td>\n",
       "      <td>11/02/2021 09:07:30 AM</td>\n",
       "      <td>276823</td>\n",
       "      <td>8</td>\n",
       "      <td>6</td>\n",
       "      <td>...</td>\n",
       "      <td>0.0</td>\n",
       "      <td>0.0</td>\n",
       "      <td>0.0</td>\n",
       "      <td>0.0</td>\n",
       "      <td>0.0</td>\n",
       "      <td>0.0</td>\n",
       "      <td>0.0</td>\n",
       "      <td>0.0</td>\n",
       "      <td>Hulk-NoDefense</td>\n",
       "      <td>hulk</td>\n",
       "    </tr>\n",
       "  </tbody>\n",
       "</table>\n",
       "<p>5 rows × 85 columns</p>\n",
       "</div>"
      ],
      "text/plain": [
       "                                         Flow ID          Src IP  Src Port  \\\n",
       "396790  192.168.111.65-192.168.111.66-46446-80-6  192.168.111.65     46446   \n",
       "576383  192.168.111.65-192.168.111.66-45022-80-6  192.168.111.65     45022   \n",
       "713697  192.168.111.65-192.168.111.66-41880-80-6  192.168.111.65     41880   \n",
       "6353    192.168.111.65-192.168.111.66-47406-80-6  192.168.111.65     47406   \n",
       "321712  192.168.111.65-192.168.111.66-36858-80-6  192.168.111.65     36858   \n",
       "\n",
       "                Dst IP  Dst Port  Protocol               Timestamp  \\\n",
       "396790  192.168.111.66        80         6  11/02/2021 09:08:21 AM   \n",
       "576383  192.168.111.66        80         6  11/02/2021 09:10:28 AM   \n",
       "713697  192.168.111.66        80         6  11/02/2021 09:12:07 AM   \n",
       "6353    192.168.111.66        80         6  11/02/2021 09:03:57 AM   \n",
       "321712  192.168.111.66        80         6  11/02/2021 09:07:30 AM   \n",
       "\n",
       "        Flow Duration  Total Fwd Packet  Total Bwd packets  ...  Active Mean  \\\n",
       "396790          72891                 8                  6  ...          0.0   \n",
       "576383         226496                 7                  5  ...          0.0   \n",
       "713697         641317                 8                  6  ...          0.0   \n",
       "6353            18216                 7                  5  ...          0.0   \n",
       "321712         276823                 8                  6  ...          0.0   \n",
       "\n",
       "        Active Std  Active Max  Active Min  Idle Mean  Idle Std  Idle Max  \\\n",
       "396790         0.0         0.0         0.0        0.0       0.0       0.0   \n",
       "576383         0.0         0.0         0.0        0.0       0.0       0.0   \n",
       "713697         0.0         0.0         0.0        0.0       0.0       0.0   \n",
       "6353           0.0         0.0         0.0        0.0       0.0       0.0   \n",
       "321712         0.0         0.0         0.0        0.0       0.0       0.0   \n",
       "\n",
       "        Idle Min           Label  attack_type  \n",
       "396790       0.0  Hulk-NoDefense         hulk  \n",
       "576383       0.0  Hulk-NoDefense         hulk  \n",
       "713697       0.0  Hulk-NoDefense         hulk  \n",
       "6353         0.0  Hulk-NoDefense         hulk  \n",
       "321712       0.0  Hulk-NoDefense         hulk  \n",
       "\n",
       "[5 rows x 85 columns]"
      ]
     },
     "execution_count": 5,
     "metadata": {},
     "output_type": "execute_result"
    }
   ],
   "source": [
    "df = pd.concat([hulk_df,slowhttp_df,slowloris_df,tcpflood_df])\n",
    "df.sample(5)"
   ]
  },
  {
   "cell_type": "code",
   "execution_count": 6,
   "id": "16c9dfc9",
   "metadata": {
    "id": "16c9dfc9",
    "outputId": "99dbda44-3fee-47c0-ab37-04f4b768baa9"
   },
   "outputs": [
    {
     "data": {
      "text/plain": [
       "Flow ID        0\n",
       "Src IP         0\n",
       "Src Port       0\n",
       "Dst IP         0\n",
       "Dst Port       0\n",
       "              ..\n",
       "Idle Std       0\n",
       "Idle Max       0\n",
       "Idle Min       0\n",
       "Label          0\n",
       "attack_type    0\n",
       "Length: 85, dtype: int64"
      ]
     },
     "execution_count": 6,
     "metadata": {},
     "output_type": "execute_result"
    }
   ],
   "source": [
    "df.isna().sum()"
   ]
  },
  {
   "cell_type": "code",
   "execution_count": 7,
   "id": "322edd9c",
   "metadata": {
    "id": "322edd9c",
    "outputId": "6c2ab36f-59af-47f6-ade9-c8cb01b2391f"
   },
   "outputs": [
    {
     "name": "stdout",
     "output_type": "stream",
     "text": [
      "All possible IPs:  {'192.168.111.6', '192.168.111.250', '0.0.0.0', '192.168.111.255', '192.168.111.199', '192.168.111.68', '255.255.255.255', '192.168.111.66', '*.*.*.*', '192.168.111.65'}\n"
     ]
    }
   ],
   "source": [
    "\n",
    "le = LabelEncoder()\n",
    "\n",
    "print('All possible IPs: ',set(df['Src IP']) | set(df['Dst IP']))\n",
    "\n",
    "df = df.drop(columns=['Src IP','Dst IP', 'Src Port', 'Dst Port'],axis=1)\n",
    "# drop ip address ports"
   ]
  },
  {
   "cell_type": "code",
   "execution_count": 8,
   "id": "8fdecc74",
   "metadata": {
    "id": "8fdecc74"
   },
   "outputs": [],
   "source": [
    "df.isna().sum()\n",
    "# dropping these columns, can later analyse if they are useful\n",
    "df.drop(columns=['Flow ID','Label','Timestamp'],inplace=True)"
   ]
  },
  {
   "cell_type": "code",
   "execution_count": 9,
   "id": "5ada8f43",
   "metadata": {
    "id": "5ada8f43",
    "outputId": "ef80dcf5-58a1-411e-f891-f0724b37d037"
   },
   "outputs": [
    {
     "name": "stdout",
     "output_type": "stream",
     "text": [
      "<class 'pandas.core.frame.DataFrame'>\n",
      "Int64Index: 1151492 entries, 0 to 291759\n",
      "Data columns (total 78 columns):\n",
      " #   Column                      Non-Null Count    Dtype  \n",
      "---  ------                      --------------    -----  \n",
      " 0   Protocol                    1151492 non-null  int64  \n",
      " 1   Flow Duration               1151492 non-null  int64  \n",
      " 2   Total Fwd Packet            1151492 non-null  int64  \n",
      " 3   Total Bwd packets           1151492 non-null  int64  \n",
      " 4   Total Length of Fwd Packet  1151492 non-null  float64\n",
      " 5   Total Length of Bwd Packet  1151492 non-null  float64\n",
      " 6   Fwd Packet Length Max       1151492 non-null  float64\n",
      " 7   Fwd Packet Length Min       1151492 non-null  float64\n",
      " 8   Fwd Packet Length Mean      1151492 non-null  float64\n",
      " 9   Fwd Packet Length Std       1151492 non-null  float64\n",
      " 10  Bwd Packet Length Max       1151492 non-null  float64\n",
      " 11  Bwd Packet Length Min       1151492 non-null  float64\n",
      " 12  Bwd Packet Length Mean      1151492 non-null  float64\n",
      " 13  Bwd Packet Length Std       1151492 non-null  float64\n",
      " 14  Flow Bytes/s                1151491 non-null  float64\n",
      " 15  Flow Packets/s              1151492 non-null  float64\n",
      " 16  Flow IAT Mean               1151485 non-null  float64\n",
      " 17  Flow IAT Std                1151485 non-null  float64\n",
      " 18  Flow IAT Max                1151485 non-null  float64\n",
      " 19  Flow IAT Min                1151485 non-null  float64\n",
      " 20  Fwd IAT Total               1151492 non-null  float64\n",
      " 21  Fwd IAT Mean                1151492 non-null  float64\n",
      " 22  Fwd IAT Std                 1151492 non-null  float64\n",
      " 23  Fwd IAT Max                 1151492 non-null  float64\n",
      " 24  Fwd IAT Min                 1151492 non-null  float64\n",
      " 25  Bwd IAT Total               1151492 non-null  float64\n",
      " 26  Bwd IAT Mean                1151492 non-null  float64\n",
      " 27  Bwd IAT Std                 1151492 non-null  float64\n",
      " 28  Bwd IAT Max                 1151492 non-null  float64\n",
      " 29  Bwd IAT Min                 1151492 non-null  float64\n",
      " 30  Fwd PSH Flags               1151492 non-null  int64  \n",
      " 31  Bwd PSH Flags               1151492 non-null  int64  \n",
      " 32  Fwd URG Flags               1151492 non-null  int64  \n",
      " 33  Bwd URG Flags               1151492 non-null  int64  \n",
      " 34  Fwd Header Length           1151492 non-null  int64  \n",
      " 35  Bwd Header Length           1151492 non-null  int64  \n",
      " 36  Fwd Packets/s               1151492 non-null  float64\n",
      " 37  Bwd Packets/s               1151492 non-null  float64\n",
      " 38  Packet Length Min           1151492 non-null  float64\n",
      " 39  Packet Length Max           1151492 non-null  float64\n",
      " 40  Packet Length Mean          1151492 non-null  float64\n",
      " 41  Packet Length Std           1151492 non-null  float64\n",
      " 42  Packet Length Variance      1151492 non-null  float64\n",
      " 43  FIN Flag Count              1151492 non-null  int64  \n",
      " 44  SYN Flag Count              1151492 non-null  int64  \n",
      " 45  RST Flag Count              1151492 non-null  int64  \n",
      " 46  PSH Flag Count              1151492 non-null  int64  \n",
      " 47  ACK Flag Count              1151492 non-null  int64  \n",
      " 48  URG Flag Count              1151492 non-null  int64  \n",
      " 49  CWR Flag Count              1151492 non-null  int64  \n",
      " 50  ECE Flag Count              1151492 non-null  int64  \n",
      " 51  Down/Up Ratio               1151492 non-null  float64\n",
      " 52  Average Packet Size         1151492 non-null  float64\n",
      " 53  Fwd Segment Size Avg        1151492 non-null  float64\n",
      " 54  Bwd Segment Size Avg        1151492 non-null  float64\n",
      " 55  Fwd Bytes/Bulk Avg          1151492 non-null  int64  \n",
      " 56  Fwd Packet/Bulk Avg         1151492 non-null  int64  \n",
      " 57  Fwd Bulk Rate Avg           1151492 non-null  int64  \n",
      " 58  Bwd Bytes/Bulk Avg          1151492 non-null  int64  \n",
      " 59  Bwd Packet/Bulk Avg         1151492 non-null  int64  \n",
      " 60  Bwd Bulk Rate Avg           1151492 non-null  int64  \n",
      " 61  Subflow Fwd Packets         1151492 non-null  int64  \n",
      " 62  Subflow Fwd Bytes           1151492 non-null  int64  \n",
      " 63  Subflow Bwd Packets         1151492 non-null  int64  \n",
      " 64  Subflow Bwd Bytes           1151492 non-null  int64  \n",
      " 65  FWD Init Win Bytes          1151492 non-null  int64  \n",
      " 66  Bwd Init Win Bytes          1151492 non-null  int64  \n",
      " 67  Fwd Act Data Pkts           1151492 non-null  int64  \n",
      " 68  Fwd Seg Size Min            1151492 non-null  int64  \n",
      " 69  Active Mean                 1151492 non-null  float64\n",
      " 70  Active Std                  1151492 non-null  float64\n",
      " 71  Active Max                  1151492 non-null  float64\n",
      " 72  Active Min                  1151492 non-null  float64\n",
      " 73  Idle Mean                   1151492 non-null  float64\n",
      " 74  Idle Std                    1151492 non-null  float64\n",
      " 75  Idle Max                    1151492 non-null  float64\n",
      " 76  Idle Min                    1151492 non-null  float64\n",
      " 77  attack_type                 1151492 non-null  object \n",
      "dtypes: float64(45), int64(32), object(1)\n",
      "memory usage: 694.0+ MB\n"
     ]
    }
   ],
   "source": [
    "df.info()"
   ]
  },
  {
   "cell_type": "code",
   "execution_count": 10,
   "id": "a2319336",
   "metadata": {
    "id": "a2319336"
   },
   "outputs": [],
   "source": [
    "df = df.dropna() # drop na values can handle as well\n",
    "\n",
    "train_df, test_df = train_test_split(df, test_size=0.3, random_state=633, shuffle=True)"
   ]
  },
  {
   "cell_type": "code",
   "execution_count": 11,
   "id": "9b855ca8",
   "metadata": {
    "id": "9b855ca8"
   },
   "outputs": [],
   "source": [
    "attack_types = ['hulk','slow_http','slow_loris','tcp_flood']\n",
    "\n",
    "\n",
    "\n",
    "\n",
    "train_df_output = train_df['attack_type']\n",
    "train_df_input =  train_df.drop(['attack_type'],axis=1)\n",
    "\n",
    "scaler = MinMaxScaler()\n",
    "train_df_input = scaler.fit_transform(train_df_input) # min max scaler, ideally need to customize\n",
    "\n",
    "\n",
    "kmeans = KMeans(n_clusters=len(attack_types))\n",
    "kmeans = kmeans.fit(train_df_input)\n",
    "\n",
    "\n"
   ]
  },
  {
   "cell_type": "markdown",
   "id": "8d857b33",
   "metadata": {},
   "source": [
    "## Plotting 2D Scatter Plot (Dimensionality Reduction) for visualising class distinction of attack types"
   ]
  },
  {
   "cell_type": "code",
   "execution_count": 12,
   "id": "d2dfb180",
   "metadata": {
    "id": "d2dfb180",
    "outputId": "08bf4f10-7365-417f-bc54-19baa0b9c1b6"
   },
   "outputs": [
    {
     "name": "stdout",
     "output_type": "stream",
     "text": [
      "['hulk: red', 'slow_http: blue', 'slow_loris: green', 'tcp_flood: black']\n"
     ]
    },
    {
     "data": {
      "image/png": "[encoded data removed]",
      "text/plain": [
       "<Figure size 640x480 with 1 Axes>"
      ]
     },
     "metadata": {},
     "output_type": "display_data"
    },
    {
     "name": "stdout",
     "output_type": "stream",
     "text": [
      "Hulk is significantly different from other attacks, also tcp flood is on the extreme end as well\n"
     ]
    }
   ],
   "source": [
    "pca = PCA()\n",
    "x_new = pca.fit_transform(train_df_input)\n",
    "\n",
    "\n",
    "color_map = {0: 'red', 1: 'blue', 2: 'green', 3: 'black'}\n",
    "colors = [color_map[attack_types.index(i)] for i in train_df_output]\n",
    "\n",
    "print([attack_types[i] + ': ' + color_map[i] for i in range(len(attack_types))])\n",
    "plt.scatter(x_new[:,0], x_new[:,1], c = colors)\n",
    "plt.xlabel('PC1')\n",
    "plt.ylabel('PC2')\n",
    "plt.show()\n",
    "\n",
    "print('Hulk is significantly different from other attacks, also tcp flood is on the extreme end as well')"
   ]
  },
  {
   "cell_type": "code",
   "execution_count": 13,
   "id": "3c9e9ac1",
   "metadata": {
    "id": "3c9e9ac1",
    "outputId": "73a3e5da-9b95-49ef-b10a-1e85d025682b"
   },
   "outputs": [
    {
     "data": {
      "image/png": "[encoded data removed]",
      "text/plain": [
       "<Figure size 640x480 with 1 Axes>"
      ]
     },
     "metadata": {},
     "output_type": "display_data"
    }
   ],
   "source": [
    "\n",
    "colors = [color_map[i] for i in kmeans.labels_]\n",
    "plt.scatter(x_new[:,0], x_new[:,1], c = colors)\n",
    "plt.xlabel('PC1')\n",
    "plt.ylabel('PC2')\n",
    "plt.show()"
   ]
  },
  {
   "cell_type": "markdown",
   "id": "1f3c9285",
   "metadata": {},
   "source": [
    "## Using Support Vector Machine to identify Decision Bounaries"
   ]
  },
  {
   "cell_type": "code",
   "execution_count": 14,
   "id": "cfbc124f",
   "metadata": {
    "id": "cfbc124f"
   },
   "outputs": [],
   "source": [
    "from sklearn.svm import SVC\n",
    "\n",
    "clf = SVC()\n",
    "clf.fit(train_df_input,train_df_output)\n",
    "\n",
    "test_df_output = test_df['attack_type']\n",
    "test_df_input =  test_df.drop(['attack_type'],axis=1)\n",
    "\n",
    "scaler = MinMaxScaler()\n",
    "test_df_input = scaler.fit_transform(test_df_input) # min max scaler, ideally need to customize\n",
    "\n",
    "predicted_test_df_output = clf.predict(test_df_input)"
   ]
  },
  {
   "cell_type": "markdown",
   "id": "0c079f85",
   "metadata": {},
   "source": [
    "# Results"
   ]
  },
  {
   "cell_type": "code",
   "execution_count": 15,
   "id": "edf5acfc",
   "metadata": {},
   "outputs": [
    {
     "data": {
      "text/plain": [
       "<matplotlib.legend.Legend at 0x288f5f8e0>"
      ]
     },
     "execution_count": 15,
     "metadata": {},
     "output_type": "execute_result"
    },
    {
     "data": {
      "image/png": "[encoded data removed]",
      "text/plain": [
       "<Figure size 640x480 with 1 Axes>"
      ]
     },
     "metadata": {},
     "output_type": "display_data"
    }
   ],
   "source": [
    "# Compute fpr, tpr, thresholds and roc auc\n",
    "y_true = [attack_types.index(a) for a in test_df_output ]\n",
    "y_score = [attack_types.index(a) for a in predicted_test_df_output ]\n",
    "\n",
    "fpr, tpr, thresholds = metrics.roc_curve(y_true, y_score, pos_label=1)\n",
    "roc_auc = metrics.auc(fpr, tpr)\n",
    "\n",
    "# Plot ROC curve\n",
    "plt.plot(fpr, tpr, label='ROC curve (area = %0.3f)' % roc_auc)\n",
    "plt.plot([0, 1], [0, 1], 'k--')  # random predictions curve\n",
    "plt.xlim([0.0, 1.0])\n",
    "plt.ylim([0.0, 1.0])\n",
    "plt.xlabel('False Positive Rate or (1 - Specifity)')\n",
    "plt.ylabel('True Positive Rate or (Sensitivity)')\n",
    "plt.title('Receiver Operating Characteristic')\n",
    "plt.legend(loc=\"lower right\")"
   ]
  },
  {
   "cell_type": "markdown",
   "id": "02024cae",
   "metadata": {},
   "source": [
    "## Feature Selection for improving Model's ROC score and ranking best features"
   ]
  },
  {
   "cell_type": "markdown",
   "id": "a161ca76",
   "metadata": {},
   "source": [
    "### Recursive Feature Elimination"
   ]
  },
  {
   "cell_type": "code",
   "execution_count": 25,
   "id": "e82ba232",
   "metadata": {},
   "outputs": [
    {
     "ename": "KeyboardInterrupt",
     "evalue": "",
     "output_type": "error",
     "traceback": [
      "\u001b[0;31m---------------------------------------------------------------------------\u001b[0m",
      "\u001b[0;31mKeyboardInterrupt\u001b[0m                         Traceback (most recent call last)",
      "Cell \u001b[0;32mIn [25], line 3\u001b[0m\n\u001b[1;32m      1\u001b[0m clf \u001b[38;5;241m=\u001b[39m SVC(kernel\u001b[38;5;241m=\u001b[39m\u001b[38;5;124m\"\u001b[39m\u001b[38;5;124mlinear\u001b[39m\u001b[38;5;124m\"\u001b[39m, C\u001b[38;5;241m=\u001b[39m\u001b[38;5;241m1\u001b[39m)\n\u001b[1;32m      2\u001b[0m rfe \u001b[38;5;241m=\u001b[39m RFE(clf, n_features_to_select\u001b[38;5;241m=\u001b[39m\u001b[38;5;241m10\u001b[39m)\n\u001b[0;32m----> 3\u001b[0m \u001b[43mrfe\u001b[49m\u001b[38;5;241;43m.\u001b[39;49m\u001b[43mfit\u001b[49m\u001b[43m(\u001b[49m\u001b[43mtrain_df_input\u001b[49m\u001b[43m,\u001b[49m\u001b[43mtrain_df_output\u001b[49m\u001b[43m)\u001b[49m\n\u001b[1;32m      5\u001b[0m \u001b[38;5;28mprint\u001b[39m(\u001b[38;5;124m\"\u001b[39m\u001b[38;5;124mSelected features: \u001b[39m\u001b[38;5;124m\"\u001b[39m, train_df_input\u001b[38;5;241m.\u001b[39mcolumns[rfe\u001b[38;5;241m.\u001b[39msupport_])\n\u001b[1;32m      6\u001b[0m \u001b[38;5;28mprint\u001b[39m(\u001b[38;5;124m\"\u001b[39m\u001b[38;5;124mFeature ranking: \u001b[39m\u001b[38;5;124m\"\u001b[39m, rfe\u001b[38;5;241m.\u001b[39mranking_)\n",
      "File \u001b[0;32m/opt/homebrew/lib/python3.10/site-packages/sklearn/feature_selection/_rfe.py:235\u001b[0m, in \u001b[0;36mRFE.fit\u001b[0;34m(self, X, y, **fit_params)\u001b[0m\n\u001b[1;32m    215\u001b[0m \u001b[38;5;28;01mdef\u001b[39;00m \u001b[38;5;21mfit\u001b[39m(\u001b[38;5;28mself\u001b[39m, X, y, \u001b[38;5;241m*\u001b[39m\u001b[38;5;241m*\u001b[39mfit_params):\n\u001b[1;32m    216\u001b[0m     \u001b[38;5;124;03m\"\"\"Fit the RFE model and then the underlying estimator on the selected features.\u001b[39;00m\n\u001b[1;32m    217\u001b[0m \n\u001b[1;32m    218\u001b[0m \u001b[38;5;124;03m    Parameters\u001b[39;00m\n\u001b[0;32m   (...)\u001b[0m\n\u001b[1;32m    233\u001b[0m \u001b[38;5;124;03m        Fitted estimator.\u001b[39;00m\n\u001b[1;32m    234\u001b[0m \u001b[38;5;124;03m    \"\"\"\u001b[39;00m\n\u001b[0;32m--> 235\u001b[0m     \u001b[38;5;28;01mreturn\u001b[39;00m \u001b[38;5;28;43mself\u001b[39;49m\u001b[38;5;241;43m.\u001b[39;49m\u001b[43m_fit\u001b[49m\u001b[43m(\u001b[49m\u001b[43mX\u001b[49m\u001b[43m,\u001b[49m\u001b[43m \u001b[49m\u001b[43my\u001b[49m\u001b[43m,\u001b[49m\u001b[43m \u001b[49m\u001b[38;5;241;43m*\u001b[39;49m\u001b[38;5;241;43m*\u001b[39;49m\u001b[43mfit_params\u001b[49m\u001b[43m)\u001b[49m\n",
      "File \u001b[0;32m/opt/homebrew/lib/python3.10/site-packages/sklearn/feature_selection/_rfe.py:296\u001b[0m, in \u001b[0;36mRFE._fit\u001b[0;34m(self, X, y, step_score, **fit_params)\u001b[0m\n\u001b[1;32m    293\u001b[0m \u001b[38;5;28;01mif\u001b[39;00m \u001b[38;5;28mself\u001b[39m\u001b[38;5;241m.\u001b[39mverbose \u001b[38;5;241m>\u001b[39m \u001b[38;5;241m0\u001b[39m:\n\u001b[1;32m    294\u001b[0m     \u001b[38;5;28mprint\u001b[39m(\u001b[38;5;124m\"\u001b[39m\u001b[38;5;124mFitting estimator with \u001b[39m\u001b[38;5;132;01m%d\u001b[39;00m\u001b[38;5;124m features.\u001b[39m\u001b[38;5;124m\"\u001b[39m \u001b[38;5;241m%\u001b[39m np\u001b[38;5;241m.\u001b[39msum(support_))\n\u001b[0;32m--> 296\u001b[0m \u001b[43mestimator\u001b[49m\u001b[38;5;241;43m.\u001b[39;49m\u001b[43mfit\u001b[49m\u001b[43m(\u001b[49m\u001b[43mX\u001b[49m\u001b[43m[\u001b[49m\u001b[43m:\u001b[49m\u001b[43m,\u001b[49m\u001b[43m \u001b[49m\u001b[43mfeatures\u001b[49m\u001b[43m]\u001b[49m\u001b[43m,\u001b[49m\u001b[43m \u001b[49m\u001b[43my\u001b[49m\u001b[43m,\u001b[49m\u001b[43m \u001b[49m\u001b[38;5;241;43m*\u001b[39;49m\u001b[38;5;241;43m*\u001b[39;49m\u001b[43mfit_params\u001b[49m\u001b[43m)\u001b[49m\n\u001b[1;32m    298\u001b[0m \u001b[38;5;66;03m# Get importance and rank them\u001b[39;00m\n\u001b[1;32m    299\u001b[0m importances \u001b[38;5;241m=\u001b[39m _get_feature_importances(\n\u001b[1;32m    300\u001b[0m     estimator,\n\u001b[1;32m    301\u001b[0m     \u001b[38;5;28mself\u001b[39m\u001b[38;5;241m.\u001b[39mimportance_getter,\n\u001b[1;32m    302\u001b[0m     transform_func\u001b[38;5;241m=\u001b[39m\u001b[38;5;124m\"\u001b[39m\u001b[38;5;124msquare\u001b[39m\u001b[38;5;124m\"\u001b[39m,\n\u001b[1;32m    303\u001b[0m )\n",
      "File \u001b[0;32m/opt/homebrew/lib/python3.10/site-packages/sklearn/svm/_base.py:251\u001b[0m, in \u001b[0;36mBaseLibSVM.fit\u001b[0;34m(self, X, y, sample_weight)\u001b[0m\n\u001b[1;32m    248\u001b[0m     \u001b[38;5;28mprint\u001b[39m(\u001b[38;5;124m\"\u001b[39m\u001b[38;5;124m[LibSVM]\u001b[39m\u001b[38;5;124m\"\u001b[39m, end\u001b[38;5;241m=\u001b[39m\u001b[38;5;124m\"\u001b[39m\u001b[38;5;124m\"\u001b[39m)\n\u001b[1;32m    250\u001b[0m seed \u001b[38;5;241m=\u001b[39m rnd\u001b[38;5;241m.\u001b[39mrandint(np\u001b[38;5;241m.\u001b[39miinfo(\u001b[38;5;124m\"\u001b[39m\u001b[38;5;124mi\u001b[39m\u001b[38;5;124m\"\u001b[39m)\u001b[38;5;241m.\u001b[39mmax)\n\u001b[0;32m--> 251\u001b[0m \u001b[43mfit\u001b[49m\u001b[43m(\u001b[49m\u001b[43mX\u001b[49m\u001b[43m,\u001b[49m\u001b[43m \u001b[49m\u001b[43my\u001b[49m\u001b[43m,\u001b[49m\u001b[43m \u001b[49m\u001b[43msample_weight\u001b[49m\u001b[43m,\u001b[49m\u001b[43m \u001b[49m\u001b[43msolver_type\u001b[49m\u001b[43m,\u001b[49m\u001b[43m \u001b[49m\u001b[43mkernel\u001b[49m\u001b[43m,\u001b[49m\u001b[43m \u001b[49m\u001b[43mrandom_seed\u001b[49m\u001b[38;5;241;43m=\u001b[39;49m\u001b[43mseed\u001b[49m\u001b[43m)\u001b[49m\n\u001b[1;32m    252\u001b[0m \u001b[38;5;66;03m# see comment on the other call to np.iinfo in this file\u001b[39;00m\n\u001b[1;32m    254\u001b[0m \u001b[38;5;28mself\u001b[39m\u001b[38;5;241m.\u001b[39mshape_fit_ \u001b[38;5;241m=\u001b[39m X\u001b[38;5;241m.\u001b[39mshape \u001b[38;5;28;01mif\u001b[39;00m \u001b[38;5;28mhasattr\u001b[39m(X, \u001b[38;5;124m\"\u001b[39m\u001b[38;5;124mshape\u001b[39m\u001b[38;5;124m\"\u001b[39m) \u001b[38;5;28;01melse\u001b[39;00m (n_samples,)\n",
      "File \u001b[0;32m/opt/homebrew/lib/python3.10/site-packages/sklearn/svm/_base.py:333\u001b[0m, in \u001b[0;36mBaseLibSVM._dense_fit\u001b[0;34m(self, X, y, sample_weight, solver_type, kernel, random_seed)\u001b[0m\n\u001b[1;32m    319\u001b[0m libsvm\u001b[38;5;241m.\u001b[39mset_verbosity_wrap(\u001b[38;5;28mself\u001b[39m\u001b[38;5;241m.\u001b[39mverbose)\n\u001b[1;32m    321\u001b[0m \u001b[38;5;66;03m# we don't pass **self.get_params() to allow subclasses to\u001b[39;00m\n\u001b[1;32m    322\u001b[0m \u001b[38;5;66;03m# add other parameters to __init__\u001b[39;00m\n\u001b[1;32m    323\u001b[0m (\n\u001b[1;32m    324\u001b[0m     \u001b[38;5;28mself\u001b[39m\u001b[38;5;241m.\u001b[39msupport_,\n\u001b[1;32m    325\u001b[0m     \u001b[38;5;28mself\u001b[39m\u001b[38;5;241m.\u001b[39msupport_vectors_,\n\u001b[1;32m    326\u001b[0m     \u001b[38;5;28mself\u001b[39m\u001b[38;5;241m.\u001b[39m_n_support,\n\u001b[1;32m    327\u001b[0m     \u001b[38;5;28mself\u001b[39m\u001b[38;5;241m.\u001b[39mdual_coef_,\n\u001b[1;32m    328\u001b[0m     \u001b[38;5;28mself\u001b[39m\u001b[38;5;241m.\u001b[39mintercept_,\n\u001b[1;32m    329\u001b[0m     \u001b[38;5;28mself\u001b[39m\u001b[38;5;241m.\u001b[39m_probA,\n\u001b[1;32m    330\u001b[0m     \u001b[38;5;28mself\u001b[39m\u001b[38;5;241m.\u001b[39m_probB,\n\u001b[1;32m    331\u001b[0m     \u001b[38;5;28mself\u001b[39m\u001b[38;5;241m.\u001b[39mfit_status_,\n\u001b[1;32m    332\u001b[0m     \u001b[38;5;28mself\u001b[39m\u001b[38;5;241m.\u001b[39m_num_iter,\n\u001b[0;32m--> 333\u001b[0m ) \u001b[38;5;241m=\u001b[39m \u001b[43mlibsvm\u001b[49m\u001b[38;5;241;43m.\u001b[39;49m\u001b[43mfit\u001b[49m\u001b[43m(\u001b[49m\n\u001b[1;32m    334\u001b[0m \u001b[43m    \u001b[49m\u001b[43mX\u001b[49m\u001b[43m,\u001b[49m\n\u001b[1;32m    335\u001b[0m \u001b[43m    \u001b[49m\u001b[43my\u001b[49m\u001b[43m,\u001b[49m\n\u001b[1;32m    336\u001b[0m \u001b[43m    \u001b[49m\u001b[43msvm_type\u001b[49m\u001b[38;5;241;43m=\u001b[39;49m\u001b[43msolver_type\u001b[49m\u001b[43m,\u001b[49m\n\u001b[1;32m    337\u001b[0m \u001b[43m    \u001b[49m\u001b[43msample_weight\u001b[49m\u001b[38;5;241;43m=\u001b[39;49m\u001b[43msample_weight\u001b[49m\u001b[43m,\u001b[49m\n\u001b[1;32m    338\u001b[0m \u001b[43m    \u001b[49m\u001b[43mclass_weight\u001b[49m\u001b[38;5;241;43m=\u001b[39;49m\u001b[38;5;28;43mself\u001b[39;49m\u001b[38;5;241;43m.\u001b[39;49m\u001b[43mclass_weight_\u001b[49m\u001b[43m,\u001b[49m\n\u001b[1;32m    339\u001b[0m \u001b[43m    \u001b[49m\u001b[43mkernel\u001b[49m\u001b[38;5;241;43m=\u001b[39;49m\u001b[43mkernel\u001b[49m\u001b[43m,\u001b[49m\n\u001b[1;32m    340\u001b[0m \u001b[43m    \u001b[49m\u001b[43mC\u001b[49m\u001b[38;5;241;43m=\u001b[39;49m\u001b[38;5;28;43mself\u001b[39;49m\u001b[38;5;241;43m.\u001b[39;49m\u001b[43mC\u001b[49m\u001b[43m,\u001b[49m\n\u001b[1;32m    341\u001b[0m \u001b[43m    \u001b[49m\u001b[43mnu\u001b[49m\u001b[38;5;241;43m=\u001b[39;49m\u001b[38;5;28;43mself\u001b[39;49m\u001b[38;5;241;43m.\u001b[39;49m\u001b[43mnu\u001b[49m\u001b[43m,\u001b[49m\n\u001b[1;32m    342\u001b[0m \u001b[43m    \u001b[49m\u001b[43mprobability\u001b[49m\u001b[38;5;241;43m=\u001b[39;49m\u001b[38;5;28;43mself\u001b[39;49m\u001b[38;5;241;43m.\u001b[39;49m\u001b[43mprobability\u001b[49m\u001b[43m,\u001b[49m\n\u001b[1;32m    343\u001b[0m \u001b[43m    \u001b[49m\u001b[43mdegree\u001b[49m\u001b[38;5;241;43m=\u001b[39;49m\u001b[38;5;28;43mself\u001b[39;49m\u001b[38;5;241;43m.\u001b[39;49m\u001b[43mdegree\u001b[49m\u001b[43m,\u001b[49m\n\u001b[1;32m    344\u001b[0m \u001b[43m    \u001b[49m\u001b[43mshrinking\u001b[49m\u001b[38;5;241;43m=\u001b[39;49m\u001b[38;5;28;43mself\u001b[39;49m\u001b[38;5;241;43m.\u001b[39;49m\u001b[43mshrinking\u001b[49m\u001b[43m,\u001b[49m\n\u001b[1;32m    345\u001b[0m \u001b[43m    \u001b[49m\u001b[43mtol\u001b[49m\u001b[38;5;241;43m=\u001b[39;49m\u001b[38;5;28;43mself\u001b[39;49m\u001b[38;5;241;43m.\u001b[39;49m\u001b[43mtol\u001b[49m\u001b[43m,\u001b[49m\n\u001b[1;32m    346\u001b[0m \u001b[43m    \u001b[49m\u001b[43mcache_size\u001b[49m\u001b[38;5;241;43m=\u001b[39;49m\u001b[38;5;28;43mself\u001b[39;49m\u001b[38;5;241;43m.\u001b[39;49m\u001b[43mcache_size\u001b[49m\u001b[43m,\u001b[49m\n\u001b[1;32m    347\u001b[0m \u001b[43m    \u001b[49m\u001b[43mcoef0\u001b[49m\u001b[38;5;241;43m=\u001b[39;49m\u001b[38;5;28;43mself\u001b[39;49m\u001b[38;5;241;43m.\u001b[39;49m\u001b[43mcoef0\u001b[49m\u001b[43m,\u001b[49m\n\u001b[1;32m    348\u001b[0m \u001b[43m    \u001b[49m\u001b[43mgamma\u001b[49m\u001b[38;5;241;43m=\u001b[39;49m\u001b[38;5;28;43mself\u001b[39;49m\u001b[38;5;241;43m.\u001b[39;49m\u001b[43m_gamma\u001b[49m\u001b[43m,\u001b[49m\n\u001b[1;32m    349\u001b[0m \u001b[43m    \u001b[49m\u001b[43mepsilon\u001b[49m\u001b[38;5;241;43m=\u001b[39;49m\u001b[38;5;28;43mself\u001b[39;49m\u001b[38;5;241;43m.\u001b[39;49m\u001b[43mepsilon\u001b[49m\u001b[43m,\u001b[49m\n\u001b[1;32m    350\u001b[0m \u001b[43m    \u001b[49m\u001b[43mmax_iter\u001b[49m\u001b[38;5;241;43m=\u001b[39;49m\u001b[38;5;28;43mself\u001b[39;49m\u001b[38;5;241;43m.\u001b[39;49m\u001b[43mmax_iter\u001b[49m\u001b[43m,\u001b[49m\n\u001b[1;32m    351\u001b[0m \u001b[43m    \u001b[49m\u001b[43mrandom_seed\u001b[49m\u001b[38;5;241;43m=\u001b[39;49m\u001b[43mrandom_seed\u001b[49m\u001b[43m,\u001b[49m\n\u001b[1;32m    352\u001b[0m \u001b[43m\u001b[49m\u001b[43m)\u001b[49m\n\u001b[1;32m    354\u001b[0m \u001b[38;5;28mself\u001b[39m\u001b[38;5;241m.\u001b[39m_warn_from_fit_status()\n",
      "\u001b[0;31mKeyboardInterrupt\u001b[0m: "
     ]
    }
   ],
   "source": [
    "clf = SVC(kernel=\"linear\", C=1)\n",
    "rfe = RFE(clf, n_features_to_select=10)\n",
    "rfe.fit(train_df_input,train_df_output)\n",
    "\n",
    "print(\"Selected features: \", train_df_input.columns[rfe.support_])\n",
    "print(\"Feature ranking: \", rfe.ranking_)\n",
    "\n",
    "kf = KFold(n_splits=5)\n",
    "scores = []\n",
    "for train_index, test_index in kf.split(train_df):\n",
    "\n",
    "    \n",
    "    X_train, X_test = train_df[selected_features].iloc[train_index], train_df[selected_features].iloc[test_index]\n",
    "    y_train, y_test = train_df_output.iloc[train_index], train_df_output.iloc[test_index]\n",
    "    \n",
    "    scaler.fit_transform(X_train)\n",
    "    scaler.fit_transform(X_test)\n",
    "    \n",
    "    model.fit(X_train, y_train)\n",
    "    y_pred = model.predict(X_test)\n",
    "    \n",
    "    y_pred = model.predict_proba(X_test)[:,1]\n",
    "    scores.append(roc_auc_score(y_test, y_pred))\n",
    "    \n",
    "# Print the average AUC over all folds\n",
    "print(\"Average AUC: \", sum(scores) / len(scores))"
   ]
  },
  {
   "cell_type": "code",
   "execution_count": null,
   "id": "59b2396f",
   "metadata": {},
   "outputs": [],
   "source": []
  }
 ],
 "metadata": {
  "colab": {
   "include_colab_link": true,
   "provenance": []
  },
  "kernelspec": {
   "display_name": "Python 3 (ipykernel)",
   "language": "python",
   "name": "python3"
  },
  "language_info": {
   "codemirror_mode": {
    "name": "ipython",
    "version": 3
   },
   "file_extension": ".py",
   "mimetype": "text/x-python",
   "name": "python",
   "nbconvert_exporter": "python",
   "pygments_lexer": "ipython3",
   "version": "3.10.8"
  }
 },
 "nbformat": 4,
 "nbformat_minor": 5
}
