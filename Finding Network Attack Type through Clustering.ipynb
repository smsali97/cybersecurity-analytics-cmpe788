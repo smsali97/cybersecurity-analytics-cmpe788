{
 "cells": [
  {
   "cell_type": "markdown",
   "id": "c3d176cd",
   "metadata": {
    "colab_type": "text",
    "id": "view-in-github"
   },
   "source": [
    "<a href=\"https://colab.research.google.com/github/smsali97/cybersecurity-analytics-cmpe788/blob/main/Finding%20Network%20Attack%20Type%20through%20Clustering.ipynb\" target=\"_parent\"><img src=\"https://colab.research.google.com/assets/colab-badge.svg\" alt=\"Open In Colab\"/></a>"
   ]
  },
  {
   "cell_type": "markdown",
   "id": "660f10c7",
   "metadata": {
    "id": "660f10c7"
   },
   "source": [
    "# Finding the Attack Type using Clustering ( K Means Clustering)"
   ]
  },
  {
   "cell_type": "code",
   "execution_count": 97,
   "id": "b55daded",
   "metadata": {
    "id": "b55daded"
   },
   "outputs": [],
   "source": [
    "import pandas as pd\n",
    "from sklearn.model_selection import train_test_split\n",
    "import matplotlib.pyplot as plt\n",
    "import seaborn as sns\n",
    "from sklearn.cluster import KMeans\n",
    "from sklearn.preprocessing import LabelEncoder\n",
    "import numpy as np\n",
    "from sklearn.neighbors import KNeighborsRegressor\n",
    "from sklearn.manifold import MDS\n",
    "from sklearn.preprocessing import MinMaxScaler\n",
    "from sklearn.decomposition import PCA\n",
    "from sklearn.svm import SVC\n",
    "import sklearn.metrics as metrics\n",
    "from sklearn.feature_selection import RFE\n",
    "from sklearn.linear_model import Lasso\n",
    "from sklearn.model_selection import KFold\n",
    "from sklearn.metrics import roc_auc_score"
   ]
  },
  {
   "cell_type": "code",
   "execution_count": 98,
   "id": "d2e6dc15",
   "metadata": {
    "id": "d2e6dc15"
   },
   "outputs": [],
   "source": [
    "hulk_df = pd.read_csv('Hulk-NoDefense.csv')\n",
    "slowhttp_df = pd.read_csv('Slowhttptest-NoDefense.csv')\n",
    "slowloris_df = pd.read_csv('Slowloris-NoDefense.csv')\n",
    "tcpflood_df = pd.read_csv('TCPFlood-NoDefense(2).csv')"
   ]
  },
  {
   "cell_type": "code",
   "execution_count": 99,
   "id": "2dff2839",
   "metadata": {
    "id": "2dff2839",
    "outputId": "8e0d6ba7-3248-47d7-cfaa-ee9dd479b630"
   },
   "outputs": [
    {
     "data": {
      "text/plain": [
       "True"
      ]
     },
     "execution_count": 99,
     "metadata": {},
     "output_type": "execute_result"
    }
   ],
   "source": [
    "# checking if columns are the same\n",
    "hulk_columns = set(hulk_df)\n",
    "slowhttp_columns = set(slowhttp_df)\n",
    "slowloris_columns = set(slowloris_df)\n",
    "tcpflood_columns = set(tcpflood_df)\n",
    "\n",
    "hulk_columns == slowhttp_columns == slowloris_columns == tcpflood_columns"
   ]
  },
  {
   "cell_type": "code",
   "execution_count": 100,
   "id": "25de33c4",
   "metadata": {
    "id": "25de33c4"
   },
   "outputs": [],
   "source": [
    "# adding target column\n",
    "hulk_df['attack_type'] = 'hulk'\n",
    "slowhttp_df['attack_type'] = 'slow_http'\n",
    "slowloris_df['attack_type'] = 'slow_loris'\n",
    "tcpflood_df['attack_type'] = 'tcp_flood'"
   ]
  },
  {
   "cell_type": "code",
   "execution_count": 101,
   "id": "1f2afd08",
   "metadata": {
    "id": "1f2afd08",
    "outputId": "5269d4db-7605-4c71-be3f-d0650199f6e0"
   },
   "outputs": [
    {
     "data": {
      "text/html": [
       "<div>\n",
       "<style scoped>\n",
       "    .dataframe tbody tr th:only-of-type {\n",
       "        vertical-align: middle;\n",
       "    }\n",
       "\n",
       "    .dataframe tbody tr th {\n",
       "        vertical-align: top;\n",
       "    }\n",
       "\n",
       "    .dataframe thead th {\n",
       "        text-align: right;\n",
       "    }\n",
       "</style>\n",
       "<table border=\"1\" class=\"dataframe\">\n",
       "  <thead>\n",
       "    <tr style=\"text-align: right;\">\n",
       "      <th></th>\n",
       "      <th>Flow ID</th>\n",
       "      <th>Src IP</th>\n",
       "      <th>Src Port</th>\n",
       "      <th>Dst IP</th>\n",
       "      <th>Dst Port</th>\n",
       "      <th>Protocol</th>\n",
       "      <th>Timestamp</th>\n",
       "      <th>Flow Duration</th>\n",
       "      <th>Total Fwd Packet</th>\n",
       "      <th>Total Bwd packets</th>\n",
       "      <th>...</th>\n",
       "      <th>Active Mean</th>\n",
       "      <th>Active Std</th>\n",
       "      <th>Active Max</th>\n",
       "      <th>Active Min</th>\n",
       "      <th>Idle Mean</th>\n",
       "      <th>Idle Std</th>\n",
       "      <th>Idle Max</th>\n",
       "      <th>Idle Min</th>\n",
       "      <th>Label</th>\n",
       "      <th>attack_type</th>\n",
       "    </tr>\n",
       "  </thead>\n",
       "  <tbody>\n",
       "    <tr>\n",
       "      <th>39376</th>\n",
       "      <td>192.168.111.65-192.168.111.66-36904-80-6</td>\n",
       "      <td>192.168.111.65</td>\n",
       "      <td>36904</td>\n",
       "      <td>192.168.111.66</td>\n",
       "      <td>80</td>\n",
       "      <td>6</td>\n",
       "      <td>11/02/2021 09:17:10 AM</td>\n",
       "      <td>17914</td>\n",
       "      <td>22</td>\n",
       "      <td>20</td>\n",
       "      <td>...</td>\n",
       "      <td>0.0</td>\n",
       "      <td>0.0</td>\n",
       "      <td>0.0</td>\n",
       "      <td>0.0</td>\n",
       "      <td>0.0</td>\n",
       "      <td>0.0</td>\n",
       "      <td>0.0</td>\n",
       "      <td>0.0</td>\n",
       "      <td>TCPFlood-NoDefense</td>\n",
       "      <td>tcp_flood</td>\n",
       "    </tr>\n",
       "    <tr>\n",
       "      <th>277544</th>\n",
       "      <td>192.168.111.65-192.168.111.66-59644-80-6</td>\n",
       "      <td>192.168.111.65</td>\n",
       "      <td>59644</td>\n",
       "      <td>192.168.111.66</td>\n",
       "      <td>80</td>\n",
       "      <td>6</td>\n",
       "      <td>11/02/2021 09:06:59 AM</td>\n",
       "      <td>316912</td>\n",
       "      <td>8</td>\n",
       "      <td>6</td>\n",
       "      <td>...</td>\n",
       "      <td>0.0</td>\n",
       "      <td>0.0</td>\n",
       "      <td>0.0</td>\n",
       "      <td>0.0</td>\n",
       "      <td>0.0</td>\n",
       "      <td>0.0</td>\n",
       "      <td>0.0</td>\n",
       "      <td>0.0</td>\n",
       "      <td>Hulk-NoDefense</td>\n",
       "      <td>hulk</td>\n",
       "    </tr>\n",
       "    <tr>\n",
       "      <th>613645</th>\n",
       "      <td>192.168.111.65-192.168.111.66-34858-80-6</td>\n",
       "      <td>192.168.111.65</td>\n",
       "      <td>34858</td>\n",
       "      <td>192.168.111.66</td>\n",
       "      <td>80</td>\n",
       "      <td>6</td>\n",
       "      <td>11/02/2021 09:10:54 AM</td>\n",
       "      <td>320772</td>\n",
       "      <td>7</td>\n",
       "      <td>5</td>\n",
       "      <td>...</td>\n",
       "      <td>0.0</td>\n",
       "      <td>0.0</td>\n",
       "      <td>0.0</td>\n",
       "      <td>0.0</td>\n",
       "      <td>0.0</td>\n",
       "      <td>0.0</td>\n",
       "      <td>0.0</td>\n",
       "      <td>0.0</td>\n",
       "      <td>Hulk-NoDefense</td>\n",
       "      <td>hulk</td>\n",
       "    </tr>\n",
       "    <tr>\n",
       "      <th>187479</th>\n",
       "      <td>192.168.111.65-192.168.111.66-40744-80-6</td>\n",
       "      <td>192.168.111.65</td>\n",
       "      <td>40744</td>\n",
       "      <td>192.168.111.66</td>\n",
       "      <td>80</td>\n",
       "      <td>6</td>\n",
       "      <td>11/02/2021 09:22:20 AM</td>\n",
       "      <td>6416</td>\n",
       "      <td>19</td>\n",
       "      <td>17</td>\n",
       "      <td>...</td>\n",
       "      <td>0.0</td>\n",
       "      <td>0.0</td>\n",
       "      <td>0.0</td>\n",
       "      <td>0.0</td>\n",
       "      <td>0.0</td>\n",
       "      <td>0.0</td>\n",
       "      <td>0.0</td>\n",
       "      <td>0.0</td>\n",
       "      <td>TCPFlood-NoDefense</td>\n",
       "      <td>tcp_flood</td>\n",
       "    </tr>\n",
       "    <tr>\n",
       "      <th>455044</th>\n",
       "      <td>192.168.111.65-192.168.111.66-51772-80-6</td>\n",
       "      <td>192.168.111.65</td>\n",
       "      <td>51772</td>\n",
       "      <td>192.168.111.66</td>\n",
       "      <td>80</td>\n",
       "      <td>6</td>\n",
       "      <td>11/02/2021 09:09:02 AM</td>\n",
       "      <td>750591</td>\n",
       "      <td>8</td>\n",
       "      <td>6</td>\n",
       "      <td>...</td>\n",
       "      <td>0.0</td>\n",
       "      <td>0.0</td>\n",
       "      <td>0.0</td>\n",
       "      <td>0.0</td>\n",
       "      <td>0.0</td>\n",
       "      <td>0.0</td>\n",
       "      <td>0.0</td>\n",
       "      <td>0.0</td>\n",
       "      <td>Hulk-NoDefense</td>\n",
       "      <td>hulk</td>\n",
       "    </tr>\n",
       "  </tbody>\n",
       "</table>\n",
       "<p>5 rows × 85 columns</p>\n",
       "</div>"
      ],
      "text/plain": [
       "                                         Flow ID          Src IP  Src Port  \\\n",
       "39376   192.168.111.65-192.168.111.66-36904-80-6  192.168.111.65     36904   \n",
       "277544  192.168.111.65-192.168.111.66-59644-80-6  192.168.111.65     59644   \n",
       "613645  192.168.111.65-192.168.111.66-34858-80-6  192.168.111.65     34858   \n",
       "187479  192.168.111.65-192.168.111.66-40744-80-6  192.168.111.65     40744   \n",
       "455044  192.168.111.65-192.168.111.66-51772-80-6  192.168.111.65     51772   \n",
       "\n",
       "                Dst IP  Dst Port  Protocol               Timestamp  \\\n",
       "39376   192.168.111.66        80         6  11/02/2021 09:17:10 AM   \n",
       "277544  192.168.111.66        80         6  11/02/2021 09:06:59 AM   \n",
       "613645  192.168.111.66        80         6  11/02/2021 09:10:54 AM   \n",
       "187479  192.168.111.66        80         6  11/02/2021 09:22:20 AM   \n",
       "455044  192.168.111.66        80         6  11/02/2021 09:09:02 AM   \n",
       "\n",
       "        Flow Duration  Total Fwd Packet  Total Bwd packets  ...  Active Mean  \\\n",
       "39376           17914                22                 20  ...          0.0   \n",
       "277544         316912                 8                  6  ...          0.0   \n",
       "613645         320772                 7                  5  ...          0.0   \n",
       "187479           6416                19                 17  ...          0.0   \n",
       "455044         750591                 8                  6  ...          0.0   \n",
       "\n",
       "        Active Std  Active Max  Active Min  Idle Mean  Idle Std  Idle Max  \\\n",
       "39376          0.0         0.0         0.0        0.0       0.0       0.0   \n",
       "277544         0.0         0.0         0.0        0.0       0.0       0.0   \n",
       "613645         0.0         0.0         0.0        0.0       0.0       0.0   \n",
       "187479         0.0         0.0         0.0        0.0       0.0       0.0   \n",
       "455044         0.0         0.0         0.0        0.0       0.0       0.0   \n",
       "\n",
       "        Idle Min               Label  attack_type  \n",
       "39376        0.0  TCPFlood-NoDefense    tcp_flood  \n",
       "277544       0.0      Hulk-NoDefense         hulk  \n",
       "613645       0.0      Hulk-NoDefense         hulk  \n",
       "187479       0.0  TCPFlood-NoDefense    tcp_flood  \n",
       "455044       0.0      Hulk-NoDefense         hulk  \n",
       "\n",
       "[5 rows x 85 columns]"
      ]
     },
     "execution_count": 101,
     "metadata": {},
     "output_type": "execute_result"
    }
   ],
   "source": [
    "df = pd.concat([hulk_df,slowhttp_df,slowloris_df,tcpflood_df])\n",
    "df.sample(5)"
   ]
  },
  {
   "cell_type": "code",
   "execution_count": 102,
   "id": "16c9dfc9",
   "metadata": {
    "id": "16c9dfc9",
    "outputId": "99dbda44-3fee-47c0-ab37-04f4b768baa9"
   },
   "outputs": [
    {
     "data": {
      "text/plain": [
       "Flow ID        0\n",
       "Src IP         0\n",
       "Src Port       0\n",
       "Dst IP         0\n",
       "Dst Port       0\n",
       "              ..\n",
       "Idle Std       0\n",
       "Idle Max       0\n",
       "Idle Min       0\n",
       "Label          0\n",
       "attack_type    0\n",
       "Length: 85, dtype: int64"
      ]
     },
     "execution_count": 102,
     "metadata": {},
     "output_type": "execute_result"
    }
   ],
   "source": [
    "df.isna().sum()"
   ]
  },
  {
   "cell_type": "code",
   "execution_count": 103,
   "id": "322edd9c",
   "metadata": {
    "id": "322edd9c",
    "outputId": "6c2ab36f-59af-47f6-ade9-c8cb01b2391f"
   },
   "outputs": [
    {
     "name": "stdout",
     "output_type": "stream",
     "text": [
      "All possible IPs:  {'192.168.111.65', '192.168.111.255', '*.*.*.*', '0.0.0.0', '192.168.111.6', '192.168.111.199', '192.168.111.68', '255.255.255.255', '192.168.111.250', '192.168.111.66'}\n"
     ]
    }
   ],
   "source": [
    "\n",
    "le = LabelEncoder()\n",
    "\n",
    "print('All possible IPs: ',set(df['Src IP']) | set(df['Dst IP']))\n",
    "\n",
    "df = df.drop(columns=['Src IP','Dst IP', 'Src Port', 'Dst Port'],axis=1)\n",
    "# drop ip address ports"
   ]
  },
  {
   "cell_type": "code",
   "execution_count": 104,
   "id": "8fdecc74",
   "metadata": {
    "id": "8fdecc74"
   },
   "outputs": [],
   "source": [
    "df.isna().sum()\n",
    "# dropping these columns, can later analyse if they are useful\n",
    "df.drop(columns=['Flow ID','Label','Timestamp'],inplace=True)"
   ]
  },
  {
   "cell_type": "code",
   "execution_count": 105,
   "id": "5ada8f43",
   "metadata": {
    "id": "5ada8f43",
    "outputId": "ef80dcf5-58a1-411e-f891-f0724b37d037"
   },
   "outputs": [
    {
     "name": "stdout",
     "output_type": "stream",
     "text": [
      "<class 'pandas.core.frame.DataFrame'>\n",
      "Int64Index: 1151492 entries, 0 to 291759\n",
      "Data columns (total 78 columns):\n",
      " #   Column                      Non-Null Count    Dtype  \n",
      "---  ------                      --------------    -----  \n",
      " 0   Protocol                    1151492 non-null  int64  \n",
      " 1   Flow Duration               1151492 non-null  int64  \n",
      " 2   Total Fwd Packet            1151492 non-null  int64  \n",
      " 3   Total Bwd packets           1151492 non-null  int64  \n",
      " 4   Total Length of Fwd Packet  1151492 non-null  float64\n",
      " 5   Total Length of Bwd Packet  1151492 non-null  float64\n",
      " 6   Fwd Packet Length Max       1151492 non-null  float64\n",
      " 7   Fwd Packet Length Min       1151492 non-null  float64\n",
      " 8   Fwd Packet Length Mean      1151492 non-null  float64\n",
      " 9   Fwd Packet Length Std       1151492 non-null  float64\n",
      " 10  Bwd Packet Length Max       1151492 non-null  float64\n",
      " 11  Bwd Packet Length Min       1151492 non-null  float64\n",
      " 12  Bwd Packet Length Mean      1151492 non-null  float64\n",
      " 13  Bwd Packet Length Std       1151492 non-null  float64\n",
      " 14  Flow Bytes/s                1151491 non-null  float64\n",
      " 15  Flow Packets/s              1151492 non-null  float64\n",
      " 16  Flow IAT Mean               1151485 non-null  float64\n",
      " 17  Flow IAT Std                1151485 non-null  float64\n",
      " 18  Flow IAT Max                1151485 non-null  float64\n",
      " 19  Flow IAT Min                1151485 non-null  float64\n",
      " 20  Fwd IAT Total               1151492 non-null  float64\n",
      " 21  Fwd IAT Mean                1151492 non-null  float64\n",
      " 22  Fwd IAT Std                 1151492 non-null  float64\n",
      " 23  Fwd IAT Max                 1151492 non-null  float64\n",
      " 24  Fwd IAT Min                 1151492 non-null  float64\n",
      " 25  Bwd IAT Total               1151492 non-null  float64\n",
      " 26  Bwd IAT Mean                1151492 non-null  float64\n",
      " 27  Bwd IAT Std                 1151492 non-null  float64\n",
      " 28  Bwd IAT Max                 1151492 non-null  float64\n",
      " 29  Bwd IAT Min                 1151492 non-null  float64\n",
      " 30  Fwd PSH Flags               1151492 non-null  int64  \n",
      " 31  Bwd PSH Flags               1151492 non-null  int64  \n",
      " 32  Fwd URG Flags               1151492 non-null  int64  \n",
      " 33  Bwd URG Flags               1151492 non-null  int64  \n",
      " 34  Fwd Header Length           1151492 non-null  int64  \n",
      " 35  Bwd Header Length           1151492 non-null  int64  \n",
      " 36  Fwd Packets/s               1151492 non-null  float64\n",
      " 37  Bwd Packets/s               1151492 non-null  float64\n",
      " 38  Packet Length Min           1151492 non-null  float64\n",
      " 39  Packet Length Max           1151492 non-null  float64\n",
      " 40  Packet Length Mean          1151492 non-null  float64\n",
      " 41  Packet Length Std           1151492 non-null  float64\n",
      " 42  Packet Length Variance      1151492 non-null  float64\n",
      " 43  FIN Flag Count              1151492 non-null  int64  \n",
      " 44  SYN Flag Count              1151492 non-null  int64  \n",
      " 45  RST Flag Count              1151492 non-null  int64  \n",
      " 46  PSH Flag Count              1151492 non-null  int64  \n",
      " 47  ACK Flag Count              1151492 non-null  int64  \n",
      " 48  URG Flag Count              1151492 non-null  int64  \n",
      " 49  CWR Flag Count              1151492 non-null  int64  \n",
      " 50  ECE Flag Count              1151492 non-null  int64  \n",
      " 51  Down/Up Ratio               1151492 non-null  float64\n",
      " 52  Average Packet Size         1151492 non-null  float64\n",
      " 53  Fwd Segment Size Avg        1151492 non-null  float64\n",
      " 54  Bwd Segment Size Avg        1151492 non-null  float64\n",
      " 55  Fwd Bytes/Bulk Avg          1151492 non-null  int64  \n",
      " 56  Fwd Packet/Bulk Avg         1151492 non-null  int64  \n",
      " 57  Fwd Bulk Rate Avg           1151492 non-null  int64  \n",
      " 58  Bwd Bytes/Bulk Avg          1151492 non-null  int64  \n",
      " 59  Bwd Packet/Bulk Avg         1151492 non-null  int64  \n",
      " 60  Bwd Bulk Rate Avg           1151492 non-null  int64  \n",
      " 61  Subflow Fwd Packets         1151492 non-null  int64  \n",
      " 62  Subflow Fwd Bytes           1151492 non-null  int64  \n",
      " 63  Subflow Bwd Packets         1151492 non-null  int64  \n",
      " 64  Subflow Bwd Bytes           1151492 non-null  int64  \n",
      " 65  FWD Init Win Bytes          1151492 non-null  int64  \n",
      " 66  Bwd Init Win Bytes          1151492 non-null  int64  \n",
      " 67  Fwd Act Data Pkts           1151492 non-null  int64  \n",
      " 68  Fwd Seg Size Min            1151492 non-null  int64  \n",
      " 69  Active Mean                 1151492 non-null  float64\n",
      " 70  Active Std                  1151492 non-null  float64\n",
      " 71  Active Max                  1151492 non-null  float64\n",
      " 72  Active Min                  1151492 non-null  float64\n",
      " 73  Idle Mean                   1151492 non-null  float64\n",
      " 74  Idle Std                    1151492 non-null  float64\n",
      " 75  Idle Max                    1151492 non-null  float64\n",
      " 76  Idle Min                    1151492 non-null  float64\n",
      " 77  attack_type                 1151492 non-null  object \n",
      "dtypes: float64(45), int64(32), object(1)\n",
      "memory usage: 694.0+ MB\n"
     ]
    }
   ],
   "source": [
    "df.info()"
   ]
  },
  {
   "cell_type": "code",
   "execution_count": 106,
   "id": "a2319336",
   "metadata": {
    "id": "a2319336"
   },
   "outputs": [],
   "source": [
    "df = df.dropna() # drop na values can handle as well\n",
    "\n",
    "train_df, test_df = train_test_split(df, test_size=0.3, random_state=633, shuffle=True)"
   ]
  },
  {
   "cell_type": "code",
   "execution_count": 107,
   "id": "9b855ca8",
   "metadata": {
    "id": "9b855ca8"
   },
   "outputs": [],
   "source": [
    "attack_types = ['hulk','slow_http','slow_loris','tcp_flood']\n",
    "\n",
    "\n",
    "\n",
    "\n",
    "train_df_output = train_df['attack_type']\n",
    "train_df_input =  train_df.drop(['attack_type'],axis=1)\n",
    "\n",
    "scaler = MinMaxScaler()\n",
    "train_df_input_scaled = scaler.fit_transform(train_df_input) # min max scaler, ideally need to customize\n",
    "\n",
    "\n",
    "kmeans = KMeans(n_clusters=len(attack_types))\n",
    "kmeans = kmeans.fit(train_df_input)\n",
    "\n",
    "\n"
   ]
  },
  {
   "cell_type": "markdown",
   "id": "8d857b33",
   "metadata": {},
   "source": [
    "## Plotting 2D Scatter Plot (Dimensionality Reduction) for visualising class distinction of attack types"
   ]
  },
  {
   "cell_type": "code",
   "execution_count": 108,
   "id": "d2dfb180",
   "metadata": {
    "id": "d2dfb180",
    "outputId": "08bf4f10-7365-417f-bc54-19baa0b9c1b6"
   },
   "outputs": [
    {
     "name": "stdout",
     "output_type": "stream",
     "text": [
      "['hulk: red', 'slow_http: blue', 'slow_loris: green', 'tcp_flood: black']\n"
     ]
    },
    {
     "data": {
      "image/png": "[encoded data removed]",
      "text/plain": [
       "<Figure size 640x480 with 1 Axes>"
      ]
     },
     "metadata": {},
     "output_type": "display_data"
    },
    {
     "name": "stdout",
     "output_type": "stream",
     "text": [
      "Hulk is significantly different from other attacks, also tcp flood is on the extreme end as well\n"
     ]
    }
   ],
   "source": [
    "pca = PCA()\n",
    "x_new = pca.fit_transform(train_df_input)\n",
    "\n",
    "\n",
    "color_map = {0: 'red', 1: 'blue', 2: 'green', 3: 'black'}\n",
    "colors = [color_map[attack_types.index(i)] for i in train_df_output]\n",
    "\n",
    "print([attack_types[i] + ': ' + color_map[i] for i in range(len(attack_types))])\n",
    "plt.scatter(x_new[:,0], x_new[:,1], c = colors)\n",
    "plt.xlabel('PC1')\n",
    "plt.ylabel('PC2')\n",
    "plt.show()\n",
    "\n",
    "print('Hulk is significantly different from other attacks, also tcp flood is on the extreme end as well')"
   ]
  },
  {
   "cell_type": "code",
   "execution_count": 109,
   "id": "3c9e9ac1",
   "metadata": {
    "id": "3c9e9ac1",
    "outputId": "73a3e5da-9b95-49ef-b10a-1e85d025682b"
   },
   "outputs": [
    {
     "data": {
      "image/png": "[encoded data removed]",
      "text/plain": [
       "<Figure size 640x480 with 1 Axes>"
      ]
     },
     "metadata": {},
     "output_type": "display_data"
    }
   ],
   "source": [
    "\n",
    "colors = [color_map[i] for i in kmeans.labels_]\n",
    "plt.scatter(x_new[:,0], x_new[:,1], c = colors)\n",
    "plt.xlabel('PC1')\n",
    "plt.ylabel('PC2')\n",
    "plt.show()"
   ]
  },
  {
   "cell_type": "markdown",
   "id": "1f3c9285",
   "metadata": {},
   "source": [
    "## Using Support Vector Machine to identify Decision Bounaries"
   ]
  },
  {
   "cell_type": "code",
   "execution_count": 110,
   "id": "cfbc124f",
   "metadata": {
    "id": "cfbc124f"
   },
   "outputs": [],
   "source": [
    "from sklearn.svm import SVC\n",
    "\n",
    "clf = SVC()\n",
    "clf.fit(train_df_input_scaled,train_df_output)\n",
    "\n",
    "test_df_output = test_df['attack_type']\n",
    "test_df_input =  test_df.drop(['attack_type'],axis=1)\n",
    "\n",
    "scaler = MinMaxScaler()\n",
    "test_df_input = scaler.fit_transform(test_df_input) # min max scaler, ideally need to customize\n",
    "\n",
    "predicted_test_df_output = clf.predict(test_df_input)"
   ]
  },
  {
   "cell_type": "markdown",
   "id": "0c079f85",
   "metadata": {},
   "source": [
    "# Results"
   ]
  },
  {
   "cell_type": "code",
   "execution_count": 111,
   "id": "edf5acfc",
   "metadata": {},
   "outputs": [
    {
     "data": {
      "text/plain": [
       "<matplotlib.legend.Legend at 0x177ea6410>"
      ]
     },
     "execution_count": 111,
     "metadata": {},
     "output_type": "execute_result"
    },
    {
     "data": {
      "image/png": "[encoded data removed]",
      "text/plain": [
       "<Figure size 640x480 with 1 Axes>"
      ]
     },
     "metadata": {},
     "output_type": "display_data"
    }
   ],
   "source": [
    "# Compute fpr, tpr, thresholds and roc auc\n",
    "y_true = [attack_types.index(a) for a in test_df_output ]\n",
    "y_score = [attack_types.index(a) for a in predicted_test_df_output ]\n",
    "\n",
    "fpr, tpr, thresholds = metrics.roc_curve(y_true, y_score, pos_label=1)\n",
    "roc_auc = metrics.auc(fpr, tpr)\n",
    "\n",
    "# Plot ROC curve\n",
    "plt.plot(fpr, tpr, label='ROC curve (area = %0.3f)' % roc_auc)\n",
    "plt.plot([0, 1], [0, 1], 'k--')  # random predictions curve\n",
    "plt.xlim([0.0, 1.0])\n",
    "plt.ylim([0.0, 1.0])\n",
    "plt.xlabel('False Positive Rate or (1 - Specifity)')\n",
    "plt.ylabel('True Positive Rate or (Sensitivity)')\n",
    "plt.title('Receiver Operating Characteristic')\n",
    "plt.legend(loc=\"lower right\")"
   ]
  },
  {
   "cell_type": "markdown",
   "id": "02024cae",
   "metadata": {},
   "source": [
    "## Feature Selection for improving Model's ROC score and ranking best features"
   ]
  },
  {
   "cell_type": "markdown",
   "id": "a161ca76",
   "metadata": {},
   "source": [
    "### Recursive Feature Elimination"
   ]
  },
  {
   "cell_type": "code",
   "execution_count": 112,
   "id": "e82ba232",
   "metadata": {},
   "outputs": [],
   "source": [
    "# clf = SVC(kernel=\"linear\", C=1)\n",
    "# rfe = RFE(clf, n_features_to_select=10)\n",
    "# rfe.fit(train_df_input,train_df_output)\n",
    "\n",
    "# print(\"Selected features: \", train_df_input.columns[rfe.support_])\n",
    "# print(\"Feature ranking: \", rfe.ranking_)\n",
    "\n",
    "# kf = KFold(n_splits=5)\n",
    "# scores = []\n",
    "# for train_index, test_index in kf.split(train_df):\n",
    "\n",
    "    \n",
    "#     X_train, X_test = train_df[selected_features].iloc[train_index], train_df[selected_features].iloc[test_index]\n",
    "#     y_train, y_test = train_df_output.iloc[train_index], train_df_output.iloc[test_index]\n",
    "    \n",
    "#     scaler.fit_transform(X_train)\n",
    "#     scaler.fit_transform(X_test)\n",
    "    \n",
    "#     model.fit(X_train, y_train)\n",
    "#     y_pred = model.predict(X_test)\n",
    "    \n",
    "#     y_pred = model.predict_proba(X_test)[:,1]\n",
    "#     scores.append(roc_auc_score(y_test, y_pred))\n",
    "    \n",
    "# # Print the average AUC over all folds\n",
    "# print(\"Average AUC: \", sum(scores) / len(scores))"
   ]
  },
  {
   "cell_type": "markdown",
   "id": "335a45db",
   "metadata": {},
   "source": [
    "### Lasso Method"
   ]
  },
  {
   "cell_type": "code",
   "execution_count": 113,
   "id": "59b2396f",
   "metadata": {},
   "outputs": [
    {
     "name": "stderr",
     "output_type": "stream",
     "text": [
      "/opt/homebrew/lib/python3.10/site-packages/sklearn/linear_model/_coordinate_descent.py:648: ConvergenceWarning: Objective did not converge. You might want to increase the number of iterations, check the scale of the features or consider increasing regularisation. Duality gap: 4.453e+03, tolerance: 1.370e+02\n",
      "  model = cd_fast.enet_coordinate_descent(\n"
     ]
    }
   ],
   "source": [
    "\n",
    "X = train_df_input\n",
    "y = [attack_types.index(a) for a in train_df_output ]\n",
    "# Create a Lasso model\n",
    "model = Lasso(alpha=0.1)\n",
    "model.fit(X, y)\n",
    "\n",
    "# Get the coefficients of the Lasso model\n",
    "coef = model.coef_\n",
    "# sort array by their absolute value\n",
    "indices = np.argsort(np.abs(coef))[::-1]"
   ]
  },
  {
   "cell_type": "code",
   "execution_count": 114,
   "id": "155a11da",
   "metadata": {},
   "outputs": [
    {
     "name": "stdout",
     "output_type": "stream",
     "text": [
      "1 Fwd Packet Length Max -0.0011315564710610297\n",
      "2 Fwd Bytes/Bulk Avg 0.0008173787547607589\n",
      "3 Packet Length Std -0.00046084997033473877\n",
      "4 Bwd Packet Length Std -0.00037583522288496454\n",
      "5 Subflow Bwd Bytes -0.00026462973066201733\n",
      "6 Bwd Header Length -0.0001972594026241273\n",
      "7 Packet Length Max 0.00015680786650122517\n",
      "8 Packet Length Mean -0.0001555334581232633\n",
      "9 Fwd Packets/s 0.0001474967729557858\n",
      "10 Total Length of Fwd Packet 0.00014142123452443316\n",
      "11 Average Packet Size -0.0001147186363667248\n",
      "12 Bwd Packet Length Max -0.00010814791197591612\n",
      "13 Total Length of Bwd Packet -0.00010491706871092809\n",
      "14 Bwd Init Win Bytes -9.985102796607418e-05\n",
      "15 Bwd Packets/s -7.539862449503243e-05\n",
      "16 FWD Init Win Bytes 2.2803483534231404e-05\n",
      "17 Bwd Segment Size Avg 2.0984617692490135e-05\n",
      "18 Bwd Packet Length Mean 1.6024019620501595e-05\n",
      "19 Bwd Bytes/Bulk Avg -1.5674133377195728e-05\n",
      "20 Fwd Bulk Rate Avg -2.779092295894704e-06\n"
     ]
    }
   ],
   "source": [
    "# sort array by their absolute value\n",
    "indices_t = indices[:20]\n",
    "for i in range(len(indices_t)):\n",
    "    index = indices_t[i]\n",
    "    print(str(i+1) + ' ' + str(X.columns[index]) + ' ' + str(coef[index]))"
   ]
  },
  {
   "cell_type": "markdown",
   "id": "a412bcfd",
   "metadata": {},
   "source": [
    "As we can see here sharp decline after 13th value, so we'll just choose the top 13 values"
   ]
  },
  {
   "cell_type": "code",
   "execution_count": 117,
   "id": "20b63e56",
   "metadata": {},
   "outputs": [],
   "source": [
    "kf = KFold(n_splits=5)\n",
    "clf = SVC(probability=True)\n",
    "scores = []\n",
    "selected_features = X.columns[indices_t[:14]]\n",
    "for train_index, test_index in kf.split(train_df):\n",
    "    X_train, X_test = train_df[selected_features].iloc[train_index], train_df[selected_features].iloc[test_index]\n",
    "    y_train, y_test = train_df_output.iloc[train_index], train_df_output.iloc[test_index]\n",
    "    \n",
    "    scaler.fit_transform(X_train)\n",
    "    scaler.fit_transform(X_test)\n",
    "\n",
    "    clf.fit(X_train, y_train)\n",
    "    \n",
    "    y_pred = clf.predict(X_test)\n",
    "    scores.append(y_pred)\n"
   ]
  },
  {
   "cell_type": "code",
   "execution_count": null,
   "id": "8613c471",
   "metadata": {},
   "outputs": [],
   "source": [
    "    \n",
    "# Print the average AUC over all folds\n",
    "print(\"Average AUC: \", sum(scores) / len(scores))"
   ]
  }
 ],
 "metadata": {
  "colab": {
   "include_colab_link": true,
   "provenance": []
  },
  "kernelspec": {
   "display_name": "Python 3 (ipykernel)",
   "language": "python",
   "name": "python3"
  },
  "language_info": {
   "codemirror_mode": {
    "name": "ipython",
    "version": 3
   },
   "file_extension": ".py",
   "mimetype": "text/x-python",
   "name": "python",
   "nbconvert_exporter": "python",
   "pygments_lexer": "ipython3",
   "version": "3.10.8"
  }
 },
 "nbformat": 4,
 "nbformat_minor": 5
}
